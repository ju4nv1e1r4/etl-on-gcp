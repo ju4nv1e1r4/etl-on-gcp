{
 "cells": [
  {
   "cell_type": "code",
   "execution_count": 34,
   "metadata": {},
   "outputs": [],
   "source": [
    "from gcs import CloudStorageOps\n",
    "import gcs\n",
    "from importlib import reload\n",
    "import pandas as pd\n",
    "import io\n",
    "reload(gcs)\n",
    "\n",
    "ops = CloudStorageOps(\"streaming-data-for-ml\")"
   ]
  },
  {
   "cell_type": "code",
   "execution_count": 38,
   "metadata": {},
   "outputs": [
    {
     "name": "stdout",
     "output_type": "stream",
     "text": [
      "Downloading: data/Cars.parquet\n",
      "Downloading: data/Star Trek.parquet\n",
      "Downloading: data/Star Wars.parquet\n",
      "Downloading: data/a.parquet\n",
      "Downloading: data/b.parquet\n",
      "Downloading: data/c.parquet\n",
      "Downloading: data/d.parquet\n",
      "Downloading: data/e.parquet\n",
      "Downloading: data/f.parquet\n",
      "Downloading: data/g.parquet\n",
      "Downloading: data/h.parquet\n",
      "Downloading: data/happy.parquet\n",
      "Downloading: data/holidays.parquet\n",
      "Downloading: data/i.parquet\n",
      "Downloading: data/j.parquet\n",
      "Downloading: data/k.parquet\n",
      "Downloading: data/l.parquet\n",
      "Downloading: data/m.parquet\n",
      "Downloading: data/mad.parquet\n",
      "Downloading: data/n.parquet\n",
      "Downloading: data/o.parquet\n",
      "Downloading: data/p.parquet\n",
      "Downloading: data/q.parquet\n",
      "Downloading: data/r.parquet\n",
      "Downloading: data/s.parquet\n",
      "Downloading: data/star.parquet\n",
      "Downloading: data/t.parquet\n",
      "Downloading: data/u.parquet\n",
      "Downloading: data/v.parquet\n",
      "Downloading: data/w.parquet\n",
      "Downloading: data/x.parquet\n",
      "Downloading: data/y.parquet\n",
      "Downloading: data/z.parquet\n"
     ]
    }
   ],
   "source": [
    "parquet_data = [blob.name for blob in ops.storage_client.list_blobs(ops.bucket_name) if blob.name.endswith(\".parquet\")]\n",
    "\n",
    "dfs = []\n",
    "\n",
    "for f in parquet_data:\n",
    "    print(f\"Downloading: {f}\")\n",
    "    parquet_bytes = ops.load_parquet_from_bucket(f)\n",
    "    df = pd.read_parquet(io.BytesIO(parquet_bytes))\n",
    "    dfs.append(df)\n",
    "\n",
    "data = pd.concat(dfs, ignore_index=True)"
   ]
  },
  {
   "cell_type": "code",
   "execution_count": 39,
   "metadata": {},
   "outputs": [
    {
     "name": "stdout",
     "output_type": "stream",
     "text": [
      "<class 'pandas.core.frame.DataFrame'>\n",
      "RangeIndex: 658 entries, 0 to 657\n",
      "Data columns (total 23 columns):\n",
      " #   Column                  Non-Null Count  Dtype \n",
      "---  ------                  --------------  ----- \n",
      " 0   itemType                658 non-null    object\n",
      " 1   showType                658 non-null    object\n",
      " 2   id                      658 non-null    object\n",
      " 3   imdbId                  658 non-null    object\n",
      " 4   tmdbId                  658 non-null    object\n",
      " 5   title                   658 non-null    object\n",
      " 6   overview                658 non-null    object\n",
      " 7   releaseYear             658 non-null    int32 \n",
      " 8   originalTitle           658 non-null    object\n",
      " 9   genres                  658 non-null    object\n",
      " 10  directors               658 non-null    object\n",
      " 11  cast                    658 non-null    object\n",
      " 12  rating                  658 non-null    int32 \n",
      " 13  runtime                 658 non-null    int32 \n",
      " 14  poster_w240             658 non-null    object\n",
      " 15  poster_w480             658 non-null    object\n",
      " 16  backdrop_w720           658 non-null    object\n",
      " 17  streaming_service_name  658 non-null    object\n",
      " 18  streaming_type          658 non-null    object\n",
      " 19  streaming_quality       658 non-null    object\n",
      " 20  streaming_link          658 non-null    object\n",
      " 21  available_since         658 non-null    int64 \n",
      " 22  subtitles               658 non-null    object\n",
      "dtypes: int32(3), int64(1), object(19)\n",
      "memory usage: 110.7+ KB\n"
     ]
    }
   ],
   "source": [
    "data.info()"
   ]
  },
  {
   "cell_type": "code",
   "execution_count": 43,
   "metadata": {},
   "outputs": [
    {
     "data": {
      "text/plain": [
       "showType\n",
       "movie    658\n",
       "Name: count, dtype: int64"
      ]
     },
     "execution_count": 43,
     "metadata": {},
     "output_type": "execute_result"
    }
   ],
   "source": [
    "data[\"showType\"].value_counts()"
   ]
  },
  {
   "cell_type": "markdown",
   "metadata": {},
   "source": [
    "# Docs"
   ]
  },
  {
   "cell_type": "markdown",
   "metadata": {},
   "source": [
    "### Vamos entender melhor os dados\n",
    "\n",
    "#### Features\n",
    "\n",
    "**Colunas que conseguimos acessar diretamente carregando o parquet no pandas**\n",
    "\n",
    "- ID\n",
    "- itemType\n",
    "- showType\n",
    "- id\n",
    "- imdbId\n",
    "- tmdbId\n",
    "- title\n",
    "- overview\n",
    "- releaseYear\n",
    "- originalTitle\n",
    "- directors\n",
    "- rating\n",
    "- cast\n",
    "- runtime\n",
    "\n",
    "Obs: Todas acima são consideradas importantes\n",
    "\n",
    "**Colunas inacessíveis através do pandas**\n",
    "\n",
    "Tipo 1\n",
    "\n",
    "**Características**\n",
    "\n",
    "**Em python:** São listas de dicionários;\n",
    "**Em go:** São slices de arrays;\n",
    "\n",
    "- genres\n",
    "\n",
    "Obs: Considerada importante\n",
    "\n",
    "Tipo 2\n",
    "\n",
    "**Características**\n",
    "\n",
    "**Em python:** São dicionários;\n",
    "**Em go:** São arrays;\n",
    "\n",
    "- imageSet (coluna menos importante - contém links de imagens, cartazes dos filmes e etc.)\n",
    "\n",
    "Tipo 3\n",
    "\n",
    "**Características**\n",
    "\n",
    "**Em python:** São dicionários com listas de dicionários;\n",
    "**Em go:** São arrays com slices de arrays;\n",
    "\n",
    "- streamingOptions (Coluna importante - core business)"
   ]
  },
  {
   "cell_type": "markdown",
   "metadata": {},
   "source": [
    "#### Uso\n"
   ]
  },
  {
   "cell_type": "code",
   "execution_count": null,
   "metadata": {},
   "outputs": [],
   "source": [
    "ops.delete_from_bucket(\"data/Black Mirror.parquet\") # só um exemplo de como excluir um arquivo do bucket"
   ]
  }
 ],
 "metadata": {
  "kernelspec": {
   "display_name": "env",
   "language": "python",
   "name": "python3"
  },
  "language_info": {
   "codemirror_mode": {
    "name": "ipython",
    "version": 3
   },
   "file_extension": ".py",
   "mimetype": "text/x-python",
   "name": "python",
   "nbconvert_exporter": "python",
   "pygments_lexer": "ipython3",
   "version": "3.11.2"
  }
 },
 "nbformat": 4,
 "nbformat_minor": 2
}
